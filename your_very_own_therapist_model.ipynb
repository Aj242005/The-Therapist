{
  "metadata": {
    "kernelspec": {
      "language": "python",
      "display_name": "Python 3",
      "name": "python3"
    },
    "language_info": {
      "name": "python",
      "version": "3.10.12",
      "mimetype": "text/x-python",
      "codemirror_mode": {
        "name": "ipython",
        "version": 3
      },
      "pygments_lexer": "ipython3",
      "nbconvert_exporter": "python",
      "file_extension": ".py"
    },
    "kaggle": {
      "accelerator": "gpu",
      "dataSources": [],
      "dockerImageVersionId": 30887,
      "isInternetEnabled": true,
      "language": "python",
      "sourceType": "notebook",
      "isGpuEnabled": true
    },
    "colab": {
      "name": "your-very-own-therapist-model",
      "provenance": []
    }
  },
  "nbformat_minor": 0,
  "nbformat": 4,
  "cells": [
    {
      "cell_type": "code",
      "source": [],
      "metadata": {
        "_uuid": "8f2839f25d086af736a60e9eeb907d3b93b6e0e5",
        "_cell_guid": "b1076dfc-b9ad-4769-8c92-a6c4dae69d19",
        "trusted": true,
        "id": "eNlp6ex0Dh70"
      },
      "outputs": [],
      "execution_count": null
    },
    {
      "cell_type": "code",
      "source": [
        "!pip install transformers trl huggingface accelerate torch torchvision torchaudio peft bitsandbytes"
      ],
      "metadata": {
        "trusted": true,
        "execution": {
          "iopub.status.busy": "2025-02-18T12:08:07.469711Z",
          "iopub.execute_input": "2025-02-18T12:08:07.470128Z",
          "iopub.status.idle": "2025-02-18T12:08:14.733063Z",
          "shell.execute_reply.started": "2025-02-18T12:08:07.470105Z",
          "shell.execute_reply": "2025-02-18T12:08:14.732Z"
        },
        "id": "bBpjO4cMDh70",
        "outputId": "cdcc55ac-a666-4e16-c451-f5a44f7c4d63"
      },
      "outputs": [
        {
          "name": "stdout",
          "text": "Requirement already satisfied: transformers in /usr/local/lib/python3.10/dist-packages (4.47.0)\nCollecting trl\n  Downloading trl-0.15.0-py3-none-any.whl.metadata (11 kB)\nCollecting huggingface\n  Downloading huggingface-0.0.1-py3-none-any.whl.metadata (2.9 kB)\nRequirement already satisfied: accelerate in /usr/local/lib/python3.10/dist-packages (1.2.1)\nRequirement already satisfied: torch in /usr/local/lib/python3.10/dist-packages (2.5.1+cu121)\nRequirement already satisfied: torchvision in /usr/local/lib/python3.10/dist-packages (0.20.1+cu121)\nRequirement already satisfied: torchaudio in /usr/local/lib/python3.10/dist-packages (2.5.1+cu121)\nRequirement already satisfied: peft in /usr/local/lib/python3.10/dist-packages (0.14.0)\nCollecting bitsandbytes\n  Downloading bitsandbytes-0.45.2-py3-none-manylinux_2_24_x86_64.whl.metadata (5.8 kB)\nRequirement already satisfied: filelock in /usr/local/lib/python3.10/dist-packages (from transformers) (3.17.0)\nRequirement already satisfied: huggingface-hub<1.0,>=0.24.0 in /usr/local/lib/python3.10/dist-packages (from transformers) (0.28.1)\nRequirement already satisfied: numpy>=1.17 in /usr/local/lib/python3.10/dist-packages (from transformers) (1.26.4)\nRequirement already satisfied: packaging>=20.0 in /usr/local/lib/python3.10/dist-packages (from transformers) (24.2)\nRequirement already satisfied: pyyaml>=5.1 in /usr/local/lib/python3.10/dist-packages (from transformers) (6.0.2)\nRequirement already satisfied: regex!=2019.12.17 in /usr/local/lib/python3.10/dist-packages (from transformers) (2024.11.6)\nRequirement already satisfied: requests in /usr/local/lib/python3.10/dist-packages (from transformers) (2.32.3)\nRequirement already satisfied: tokenizers<0.22,>=0.21 in /usr/local/lib/python3.10/dist-packages (from transformers) (0.21.0)\nRequirement already satisfied: safetensors>=0.4.1 in /usr/local/lib/python3.10/dist-packages (from transformers) (0.4.5)\nRequirement already satisfied: tqdm>=4.27 in /usr/local/lib/python3.10/dist-packages (from transformers) (4.67.1)\nRequirement already satisfied: datasets>=2.21.0 in /usr/local/lib/python3.10/dist-packages (from trl) (3.2.0)\nRequirement already satisfied: rich in /usr/local/lib/python3.10/dist-packages (from trl) (13.9.4)\nRequirement already satisfied: psutil in /usr/local/lib/python3.10/dist-packages (from accelerate) (5.9.5)\nRequirement already satisfied: typing-extensions>=4.8.0 in /usr/local/lib/python3.10/dist-packages (from torch) (4.12.2)\nRequirement already satisfied: networkx in /usr/local/lib/python3.10/dist-packages (from torch) (3.4.2)\nRequirement already satisfied: jinja2 in /usr/local/lib/python3.10/dist-packages (from torch) (3.1.4)\nRequirement already satisfied: fsspec in /usr/local/lib/python3.10/dist-packages (from torch) (2024.9.0)\nRequirement already satisfied: sympy==1.13.1 in /usr/local/lib/python3.10/dist-packages (from torch) (1.13.1)\nRequirement already satisfied: mpmath<1.4,>=1.1.0 in /usr/local/lib/python3.10/dist-packages (from sympy==1.13.1->torch) (1.3.0)\nRequirement already satisfied: pillow!=8.3.*,>=5.3.0 in /usr/local/lib/python3.10/dist-packages (from torchvision) (11.0.0)\nRequirement already satisfied: pyarrow>=15.0.0 in /usr/local/lib/python3.10/dist-packages (from datasets>=2.21.0->trl) (19.0.0)\nRequirement already satisfied: dill<0.3.9,>=0.3.0 in /usr/local/lib/python3.10/dist-packages (from datasets>=2.21.0->trl) (0.3.8)\nRequirement already satisfied: pandas in /usr/local/lib/python3.10/dist-packages (from datasets>=2.21.0->trl) (2.2.3)\nRequirement already satisfied: xxhash in /usr/local/lib/python3.10/dist-packages (from datasets>=2.21.0->trl) (3.5.0)\nRequirement already satisfied: multiprocess<0.70.17 in /usr/local/lib/python3.10/dist-packages (from datasets>=2.21.0->trl) (0.70.16)\nRequirement already satisfied: aiohttp in /usr/local/lib/python3.10/dist-packages (from datasets>=2.21.0->trl) (3.11.11)\nRequirement already satisfied: mkl_fft in /usr/local/lib/python3.10/dist-packages (from numpy>=1.17->transformers) (1.3.8)\nRequirement already satisfied: mkl_random in /usr/local/lib/python3.10/dist-packages (from numpy>=1.17->transformers) (1.2.4)\nRequirement already satisfied: mkl_umath in /usr/local/lib/python3.10/dist-packages (from numpy>=1.17->transformers) (0.1.1)\nRequirement already satisfied: mkl in /usr/local/lib/python3.10/dist-packages (from numpy>=1.17->transformers) (2025.0.1)\nRequirement already satisfied: tbb4py in /usr/local/lib/python3.10/dist-packages (from numpy>=1.17->transformers) (2022.0.0)\nRequirement already satisfied: mkl-service in /usr/local/lib/python3.10/dist-packages (from numpy>=1.17->transformers) (2.4.1)\nRequirement already satisfied: charset-normalizer<4,>=2 in /usr/local/lib/python3.10/dist-packages (from requests->transformers) (3.4.1)\nRequirement already satisfied: idna<4,>=2.5 in /usr/local/lib/python3.10/dist-packages (from requests->transformers) (3.10)\nRequirement already satisfied: urllib3<3,>=1.21.1 in /usr/local/lib/python3.10/dist-packages (from requests->transformers) (2.3.0)\nRequirement already satisfied: certifi>=2017.4.17 in /usr/local/lib/python3.10/dist-packages (from requests->transformers) (2025.1.31)\nRequirement already satisfied: MarkupSafe>=2.0 in /usr/local/lib/python3.10/dist-packages (from jinja2->torch) (3.0.2)\nRequirement already satisfied: markdown-it-py>=2.2.0 in /usr/local/lib/python3.10/dist-packages (from rich->trl) (3.0.0)\nRequirement already satisfied: pygments<3.0.0,>=2.13.0 in /usr/local/lib/python3.10/dist-packages (from rich->trl) (2.19.1)\nRequirement already satisfied: aiohappyeyeballs>=2.3.0 in /usr/local/lib/python3.10/dist-packages (from aiohttp->datasets>=2.21.0->trl) (2.4.4)\nRequirement already satisfied: aiosignal>=1.1.2 in /usr/local/lib/python3.10/dist-packages (from aiohttp->datasets>=2.21.0->trl) (1.3.2)\nRequirement already satisfied: async-timeout<6.0,>=4.0 in /usr/local/lib/python3.10/dist-packages (from aiohttp->datasets>=2.21.0->trl) (5.0.1)\nRequirement already satisfied: attrs>=17.3.0 in /usr/local/lib/python3.10/dist-packages (from aiohttp->datasets>=2.21.0->trl) (25.1.0)\nRequirement already satisfied: frozenlist>=1.1.1 in /usr/local/lib/python3.10/dist-packages (from aiohttp->datasets>=2.21.0->trl) (1.5.0)\nRequirement already satisfied: multidict<7.0,>=4.5 in /usr/local/lib/python3.10/dist-packages (from aiohttp->datasets>=2.21.0->trl) (6.1.0)\nRequirement already satisfied: propcache>=0.2.0 in /usr/local/lib/python3.10/dist-packages (from aiohttp->datasets>=2.21.0->trl) (0.2.1)\nRequirement already satisfied: yarl<2.0,>=1.17.0 in /usr/local/lib/python3.10/dist-packages (from aiohttp->datasets>=2.21.0->trl) (1.18.3)\nRequirement already satisfied: mdurl~=0.1 in /usr/local/lib/python3.10/dist-packages (from markdown-it-py>=2.2.0->rich->trl) (0.1.2)\nRequirement already satisfied: intel-openmp>=2024 in /usr/local/lib/python3.10/dist-packages (from mkl->numpy>=1.17->transformers) (2024.2.0)\nRequirement already satisfied: tbb==2022.* in /usr/local/lib/python3.10/dist-packages (from mkl->numpy>=1.17->transformers) (2022.0.0)\nRequirement already satisfied: tcmlib==1.* in /usr/local/lib/python3.10/dist-packages (from tbb==2022.*->mkl->numpy>=1.17->transformers) (1.2.0)\nRequirement already satisfied: intel-cmplr-lib-rt in /usr/local/lib/python3.10/dist-packages (from mkl_umath->numpy>=1.17->transformers) (2024.2.0)\nRequirement already satisfied: python-dateutil>=2.8.2 in /usr/local/lib/python3.10/dist-packages (from pandas->datasets>=2.21.0->trl) (2.9.0.post0)\nRequirement already satisfied: pytz>=2020.1 in /usr/local/lib/python3.10/dist-packages (from pandas->datasets>=2.21.0->trl) (2025.1)\nRequirement already satisfied: tzdata>=2022.7 in /usr/local/lib/python3.10/dist-packages (from pandas->datasets>=2.21.0->trl) (2025.1)\nRequirement already satisfied: intel-cmplr-lib-ur==2024.2.0 in /usr/local/lib/python3.10/dist-packages (from intel-openmp>=2024->mkl->numpy>=1.17->transformers) (2024.2.0)\nRequirement already satisfied: six>=1.5 in /usr/local/lib/python3.10/dist-packages (from python-dateutil>=2.8.2->pandas->datasets>=2.21.0->trl) (1.17.0)\nDownloading trl-0.15.0-py3-none-any.whl (318 kB)\n\u001b[2K   \u001b[90m━━━━━━━━━━━━━━━━━━━━━━━━━━━━━━━━━━━━━━━━\u001b[0m \u001b[32m318.3/318.3 kB\u001b[0m \u001b[31m9.4 MB/s\u001b[0m eta \u001b[36m0:00:00\u001b[0m\n\u001b[?25hDownloading huggingface-0.0.1-py3-none-any.whl (2.5 kB)\nDownloading bitsandbytes-0.45.2-py3-none-manylinux_2_24_x86_64.whl (69.7 MB)\n\u001b[2K   \u001b[90m━━━━━━━━━━━━━━━━━━━━━━━━━━━━━━━━━━━━━━━━\u001b[0m \u001b[32m69.7/69.7 MB\u001b[0m \u001b[31m24.9 MB/s\u001b[0m eta \u001b[36m0:00:00\u001b[0m:00:01\u001b[0m00:01\u001b[0m\n\u001b[?25hInstalling collected packages: huggingface, trl, bitsandbytes\nSuccessfully installed bitsandbytes-0.45.2 huggingface-0.0.1 trl-0.15.0\n",
          "output_type": "stream"
        }
      ],
      "execution_count": null
    },
    {
      "cell_type": "code",
      "source": [
        "!pip install trl"
      ],
      "metadata": {
        "trusted": true,
        "execution": {
          "iopub.status.busy": "2025-02-18T12:08:14.735073Z",
          "iopub.execute_input": "2025-02-18T12:08:14.735441Z",
          "iopub.status.idle": "2025-02-18T12:08:18.224947Z",
          "shell.execute_reply.started": "2025-02-18T12:08:14.735408Z",
          "shell.execute_reply": "2025-02-18T12:08:18.224048Z"
        },
        "id": "AlLG9hqxDh72",
        "outputId": "92623697-8c5f-4b91-d394-a9a9eba2975b"
      },
      "outputs": [
        {
          "name": "stdout",
          "text": "Requirement already satisfied: trl in /usr/local/lib/python3.10/dist-packages (0.15.0)\nRequirement already satisfied: accelerate>=0.34.0 in /usr/local/lib/python3.10/dist-packages (from trl) (1.2.1)\nRequirement already satisfied: datasets>=2.21.0 in /usr/local/lib/python3.10/dist-packages (from trl) (3.2.0)\nRequirement already satisfied: rich in /usr/local/lib/python3.10/dist-packages (from trl) (13.9.4)\nRequirement already satisfied: transformers>=4.46.0 in /usr/local/lib/python3.10/dist-packages (from trl) (4.47.0)\nRequirement already satisfied: numpy<3.0.0,>=1.17 in /usr/local/lib/python3.10/dist-packages (from accelerate>=0.34.0->trl) (1.26.4)\nRequirement already satisfied: packaging>=20.0 in /usr/local/lib/python3.10/dist-packages (from accelerate>=0.34.0->trl) (24.2)\nRequirement already satisfied: psutil in /usr/local/lib/python3.10/dist-packages (from accelerate>=0.34.0->trl) (5.9.5)\nRequirement already satisfied: pyyaml in /usr/local/lib/python3.10/dist-packages (from accelerate>=0.34.0->trl) (6.0.2)\nRequirement already satisfied: torch>=1.10.0 in /usr/local/lib/python3.10/dist-packages (from accelerate>=0.34.0->trl) (2.5.1+cu121)\nRequirement already satisfied: huggingface-hub>=0.21.0 in /usr/local/lib/python3.10/dist-packages (from accelerate>=0.34.0->trl) (0.28.1)\nRequirement already satisfied: safetensors>=0.4.3 in /usr/local/lib/python3.10/dist-packages (from accelerate>=0.34.0->trl) (0.4.5)\nRequirement already satisfied: filelock in /usr/local/lib/python3.10/dist-packages (from datasets>=2.21.0->trl) (3.17.0)\nRequirement already satisfied: pyarrow>=15.0.0 in /usr/local/lib/python3.10/dist-packages (from datasets>=2.21.0->trl) (19.0.0)\nRequirement already satisfied: dill<0.3.9,>=0.3.0 in /usr/local/lib/python3.10/dist-packages (from datasets>=2.21.0->trl) (0.3.8)\nRequirement already satisfied: pandas in /usr/local/lib/python3.10/dist-packages (from datasets>=2.21.0->trl) (2.2.3)\nRequirement already satisfied: requests>=2.32.2 in /usr/local/lib/python3.10/dist-packages (from datasets>=2.21.0->trl) (2.32.3)\nRequirement already satisfied: tqdm>=4.66.3 in /usr/local/lib/python3.10/dist-packages (from datasets>=2.21.0->trl) (4.67.1)\nRequirement already satisfied: xxhash in /usr/local/lib/python3.10/dist-packages (from datasets>=2.21.0->trl) (3.5.0)\nRequirement already satisfied: multiprocess<0.70.17 in /usr/local/lib/python3.10/dist-packages (from datasets>=2.21.0->trl) (0.70.16)\nRequirement already satisfied: fsspec<=2024.9.0,>=2023.1.0 in /usr/local/lib/python3.10/dist-packages (from fsspec[http]<=2024.9.0,>=2023.1.0->datasets>=2.21.0->trl) (2024.9.0)\nRequirement already satisfied: aiohttp in /usr/local/lib/python3.10/dist-packages (from datasets>=2.21.0->trl) (3.11.11)\nRequirement already satisfied: regex!=2019.12.17 in /usr/local/lib/python3.10/dist-packages (from transformers>=4.46.0->trl) (2024.11.6)\nRequirement already satisfied: tokenizers<0.22,>=0.21 in /usr/local/lib/python3.10/dist-packages (from transformers>=4.46.0->trl) (0.21.0)\nRequirement already satisfied: markdown-it-py>=2.2.0 in /usr/local/lib/python3.10/dist-packages (from rich->trl) (3.0.0)\nRequirement already satisfied: pygments<3.0.0,>=2.13.0 in /usr/local/lib/python3.10/dist-packages (from rich->trl) (2.19.1)\nRequirement already satisfied: typing-extensions<5.0,>=4.0.0 in /usr/local/lib/python3.10/dist-packages (from rich->trl) (4.12.2)\nRequirement already satisfied: aiohappyeyeballs>=2.3.0 in /usr/local/lib/python3.10/dist-packages (from aiohttp->datasets>=2.21.0->trl) (2.4.4)\nRequirement already satisfied: aiosignal>=1.1.2 in /usr/local/lib/python3.10/dist-packages (from aiohttp->datasets>=2.21.0->trl) (1.3.2)\nRequirement already satisfied: async-timeout<6.0,>=4.0 in /usr/local/lib/python3.10/dist-packages (from aiohttp->datasets>=2.21.0->trl) (5.0.1)\nRequirement already satisfied: attrs>=17.3.0 in /usr/local/lib/python3.10/dist-packages (from aiohttp->datasets>=2.21.0->trl) (25.1.0)\nRequirement already satisfied: frozenlist>=1.1.1 in /usr/local/lib/python3.10/dist-packages (from aiohttp->datasets>=2.21.0->trl) (1.5.0)\nRequirement already satisfied: multidict<7.0,>=4.5 in /usr/local/lib/python3.10/dist-packages (from aiohttp->datasets>=2.21.0->trl) (6.1.0)\nRequirement already satisfied: propcache>=0.2.0 in /usr/local/lib/python3.10/dist-packages (from aiohttp->datasets>=2.21.0->trl) (0.2.1)\nRequirement already satisfied: yarl<2.0,>=1.17.0 in /usr/local/lib/python3.10/dist-packages (from aiohttp->datasets>=2.21.0->trl) (1.18.3)\nRequirement already satisfied: mdurl~=0.1 in /usr/local/lib/python3.10/dist-packages (from markdown-it-py>=2.2.0->rich->trl) (0.1.2)\nRequirement already satisfied: mkl_fft in /usr/local/lib/python3.10/dist-packages (from numpy<3.0.0,>=1.17->accelerate>=0.34.0->trl) (1.3.8)\nRequirement already satisfied: mkl_random in /usr/local/lib/python3.10/dist-packages (from numpy<3.0.0,>=1.17->accelerate>=0.34.0->trl) (1.2.4)\nRequirement already satisfied: mkl_umath in /usr/local/lib/python3.10/dist-packages (from numpy<3.0.0,>=1.17->accelerate>=0.34.0->trl) (0.1.1)\nRequirement already satisfied: mkl in /usr/local/lib/python3.10/dist-packages (from numpy<3.0.0,>=1.17->accelerate>=0.34.0->trl) (2025.0.1)\nRequirement already satisfied: tbb4py in /usr/local/lib/python3.10/dist-packages (from numpy<3.0.0,>=1.17->accelerate>=0.34.0->trl) (2022.0.0)\nRequirement already satisfied: mkl-service in /usr/local/lib/python3.10/dist-packages (from numpy<3.0.0,>=1.17->accelerate>=0.34.0->trl) (2.4.1)\nRequirement already satisfied: charset-normalizer<4,>=2 in /usr/local/lib/python3.10/dist-packages (from requests>=2.32.2->datasets>=2.21.0->trl) (3.4.1)\nRequirement already satisfied: idna<4,>=2.5 in /usr/local/lib/python3.10/dist-packages (from requests>=2.32.2->datasets>=2.21.0->trl) (3.10)\nRequirement already satisfied: urllib3<3,>=1.21.1 in /usr/local/lib/python3.10/dist-packages (from requests>=2.32.2->datasets>=2.21.0->trl) (2.3.0)\nRequirement already satisfied: certifi>=2017.4.17 in /usr/local/lib/python3.10/dist-packages (from requests>=2.32.2->datasets>=2.21.0->trl) (2025.1.31)\nRequirement already satisfied: networkx in /usr/local/lib/python3.10/dist-packages (from torch>=1.10.0->accelerate>=0.34.0->trl) (3.4.2)\nRequirement already satisfied: jinja2 in /usr/local/lib/python3.10/dist-packages (from torch>=1.10.0->accelerate>=0.34.0->trl) (3.1.4)\nRequirement already satisfied: sympy==1.13.1 in /usr/local/lib/python3.10/dist-packages (from torch>=1.10.0->accelerate>=0.34.0->trl) (1.13.1)\nRequirement already satisfied: mpmath<1.4,>=1.1.0 in /usr/local/lib/python3.10/dist-packages (from sympy==1.13.1->torch>=1.10.0->accelerate>=0.34.0->trl) (1.3.0)\nRequirement already satisfied: python-dateutil>=2.8.2 in /usr/local/lib/python3.10/dist-packages (from pandas->datasets>=2.21.0->trl) (2.9.0.post0)\nRequirement already satisfied: pytz>=2020.1 in /usr/local/lib/python3.10/dist-packages (from pandas->datasets>=2.21.0->trl) (2025.1)\nRequirement already satisfied: tzdata>=2022.7 in /usr/local/lib/python3.10/dist-packages (from pandas->datasets>=2.21.0->trl) (2025.1)\nRequirement already satisfied: six>=1.5 in /usr/local/lib/python3.10/dist-packages (from python-dateutil>=2.8.2->pandas->datasets>=2.21.0->trl) (1.17.0)\nRequirement already satisfied: MarkupSafe>=2.0 in /usr/local/lib/python3.10/dist-packages (from jinja2->torch>=1.10.0->accelerate>=0.34.0->trl) (3.0.2)\nRequirement already satisfied: intel-openmp>=2024 in /usr/local/lib/python3.10/dist-packages (from mkl->numpy<3.0.0,>=1.17->accelerate>=0.34.0->trl) (2024.2.0)\nRequirement already satisfied: tbb==2022.* in /usr/local/lib/python3.10/dist-packages (from mkl->numpy<3.0.0,>=1.17->accelerate>=0.34.0->trl) (2022.0.0)\nRequirement already satisfied: tcmlib==1.* in /usr/local/lib/python3.10/dist-packages (from tbb==2022.*->mkl->numpy<3.0.0,>=1.17->accelerate>=0.34.0->trl) (1.2.0)\nRequirement already satisfied: intel-cmplr-lib-rt in /usr/local/lib/python3.10/dist-packages (from mkl_umath->numpy<3.0.0,>=1.17->accelerate>=0.34.0->trl) (2024.2.0)\nRequirement already satisfied: intel-cmplr-lib-ur==2024.2.0 in /usr/local/lib/python3.10/dist-packages (from intel-openmp>=2024->mkl->numpy<3.0.0,>=1.17->accelerate>=0.34.0->trl) (2024.2.0)\n",
          "output_type": "stream"
        }
      ],
      "execution_count": null
    },
    {
      "cell_type": "code",
      "source": [
        "!pip install accelerate"
      ],
      "metadata": {
        "trusted": true,
        "execution": {
          "iopub.status.busy": "2025-02-18T12:08:18.226345Z",
          "iopub.execute_input": "2025-02-18T12:08:18.226613Z",
          "iopub.status.idle": "2025-02-18T12:08:21.661635Z",
          "shell.execute_reply.started": "2025-02-18T12:08:18.226587Z",
          "shell.execute_reply": "2025-02-18T12:08:21.660748Z"
        },
        "id": "gINytWEGDh73",
        "outputId": "0cb37405-682b-45db-9368-0b42bb863e1c"
      },
      "outputs": [
        {
          "name": "stdout",
          "text": "Requirement already satisfied: accelerate in /usr/local/lib/python3.10/dist-packages (1.2.1)\nRequirement already satisfied: numpy<3.0.0,>=1.17 in /usr/local/lib/python3.10/dist-packages (from accelerate) (1.26.4)\nRequirement already satisfied: packaging>=20.0 in /usr/local/lib/python3.10/dist-packages (from accelerate) (24.2)\nRequirement already satisfied: psutil in /usr/local/lib/python3.10/dist-packages (from accelerate) (5.9.5)\nRequirement already satisfied: pyyaml in /usr/local/lib/python3.10/dist-packages (from accelerate) (6.0.2)\nRequirement already satisfied: torch>=1.10.0 in /usr/local/lib/python3.10/dist-packages (from accelerate) (2.5.1+cu121)\nRequirement already satisfied: huggingface-hub>=0.21.0 in /usr/local/lib/python3.10/dist-packages (from accelerate) (0.28.1)\nRequirement already satisfied: safetensors>=0.4.3 in /usr/local/lib/python3.10/dist-packages (from accelerate) (0.4.5)\nRequirement already satisfied: filelock in /usr/local/lib/python3.10/dist-packages (from huggingface-hub>=0.21.0->accelerate) (3.17.0)\nRequirement already satisfied: fsspec>=2023.5.0 in /usr/local/lib/python3.10/dist-packages (from huggingface-hub>=0.21.0->accelerate) (2024.9.0)\nRequirement already satisfied: requests in /usr/local/lib/python3.10/dist-packages (from huggingface-hub>=0.21.0->accelerate) (2.32.3)\nRequirement already satisfied: tqdm>=4.42.1 in /usr/local/lib/python3.10/dist-packages (from huggingface-hub>=0.21.0->accelerate) (4.67.1)\nRequirement already satisfied: typing-extensions>=3.7.4.3 in /usr/local/lib/python3.10/dist-packages (from huggingface-hub>=0.21.0->accelerate) (4.12.2)\nRequirement already satisfied: mkl_fft in /usr/local/lib/python3.10/dist-packages (from numpy<3.0.0,>=1.17->accelerate) (1.3.8)\nRequirement already satisfied: mkl_random in /usr/local/lib/python3.10/dist-packages (from numpy<3.0.0,>=1.17->accelerate) (1.2.4)\nRequirement already satisfied: mkl_umath in /usr/local/lib/python3.10/dist-packages (from numpy<3.0.0,>=1.17->accelerate) (0.1.1)\nRequirement already satisfied: mkl in /usr/local/lib/python3.10/dist-packages (from numpy<3.0.0,>=1.17->accelerate) (2025.0.1)\nRequirement already satisfied: tbb4py in /usr/local/lib/python3.10/dist-packages (from numpy<3.0.0,>=1.17->accelerate) (2022.0.0)\nRequirement already satisfied: mkl-service in /usr/local/lib/python3.10/dist-packages (from numpy<3.0.0,>=1.17->accelerate) (2.4.1)\nRequirement already satisfied: networkx in /usr/local/lib/python3.10/dist-packages (from torch>=1.10.0->accelerate) (3.4.2)\nRequirement already satisfied: jinja2 in /usr/local/lib/python3.10/dist-packages (from torch>=1.10.0->accelerate) (3.1.4)\nRequirement already satisfied: sympy==1.13.1 in /usr/local/lib/python3.10/dist-packages (from torch>=1.10.0->accelerate) (1.13.1)\nRequirement already satisfied: mpmath<1.4,>=1.1.0 in /usr/local/lib/python3.10/dist-packages (from sympy==1.13.1->torch>=1.10.0->accelerate) (1.3.0)\nRequirement already satisfied: MarkupSafe>=2.0 in /usr/local/lib/python3.10/dist-packages (from jinja2->torch>=1.10.0->accelerate) (3.0.2)\nRequirement already satisfied: intel-openmp>=2024 in /usr/local/lib/python3.10/dist-packages (from mkl->numpy<3.0.0,>=1.17->accelerate) (2024.2.0)\nRequirement already satisfied: tbb==2022.* in /usr/local/lib/python3.10/dist-packages (from mkl->numpy<3.0.0,>=1.17->accelerate) (2022.0.0)\nRequirement already satisfied: tcmlib==1.* in /usr/local/lib/python3.10/dist-packages (from tbb==2022.*->mkl->numpy<3.0.0,>=1.17->accelerate) (1.2.0)\nRequirement already satisfied: intel-cmplr-lib-rt in /usr/local/lib/python3.10/dist-packages (from mkl_umath->numpy<3.0.0,>=1.17->accelerate) (2024.2.0)\nRequirement already satisfied: charset-normalizer<4,>=2 in /usr/local/lib/python3.10/dist-packages (from requests->huggingface-hub>=0.21.0->accelerate) (3.4.1)\nRequirement already satisfied: idna<4,>=2.5 in /usr/local/lib/python3.10/dist-packages (from requests->huggingface-hub>=0.21.0->accelerate) (3.10)\nRequirement already satisfied: urllib3<3,>=1.21.1 in /usr/local/lib/python3.10/dist-packages (from requests->huggingface-hub>=0.21.0->accelerate) (2.3.0)\nRequirement already satisfied: certifi>=2017.4.17 in /usr/local/lib/python3.10/dist-packages (from requests->huggingface-hub>=0.21.0->accelerate) (2025.1.31)\nRequirement already satisfied: intel-cmplr-lib-ur==2024.2.0 in /usr/local/lib/python3.10/dist-packages (from intel-openmp>=2024->mkl->numpy<3.0.0,>=1.17->accelerate) (2024.2.0)\n",
          "output_type": "stream"
        }
      ],
      "execution_count": null
    },
    {
      "cell_type": "code",
      "source": [
        "!pip install -U bitsandbytes"
      ],
      "metadata": {
        "trusted": true,
        "execution": {
          "iopub.status.busy": "2025-02-18T12:08:21.662674Z",
          "iopub.execute_input": "2025-02-18T12:08:21.663019Z",
          "iopub.status.idle": "2025-02-18T12:08:25.27731Z",
          "shell.execute_reply.started": "2025-02-18T12:08:21.662984Z",
          "shell.execute_reply": "2025-02-18T12:08:25.276145Z"
        },
        "id": "yaEe0NtADh74",
        "outputId": "7c8f92cd-f1a4-47dc-b75e-fb718dce4ac7"
      },
      "outputs": [
        {
          "name": "stdout",
          "text": "Requirement already satisfied: bitsandbytes in /usr/local/lib/python3.10/dist-packages (0.45.2)\nRequirement already satisfied: torch<3,>=2.0 in /usr/local/lib/python3.10/dist-packages (from bitsandbytes) (2.5.1+cu121)\nRequirement already satisfied: numpy>=1.17 in /usr/local/lib/python3.10/dist-packages (from bitsandbytes) (1.26.4)\nRequirement already satisfied: mkl_fft in /usr/local/lib/python3.10/dist-packages (from numpy>=1.17->bitsandbytes) (1.3.8)\nRequirement already satisfied: mkl_random in /usr/local/lib/python3.10/dist-packages (from numpy>=1.17->bitsandbytes) (1.2.4)\nRequirement already satisfied: mkl_umath in /usr/local/lib/python3.10/dist-packages (from numpy>=1.17->bitsandbytes) (0.1.1)\nRequirement already satisfied: mkl in /usr/local/lib/python3.10/dist-packages (from numpy>=1.17->bitsandbytes) (2025.0.1)\nRequirement already satisfied: tbb4py in /usr/local/lib/python3.10/dist-packages (from numpy>=1.17->bitsandbytes) (2022.0.0)\nRequirement already satisfied: mkl-service in /usr/local/lib/python3.10/dist-packages (from numpy>=1.17->bitsandbytes) (2.4.1)\nRequirement already satisfied: filelock in /usr/local/lib/python3.10/dist-packages (from torch<3,>=2.0->bitsandbytes) (3.17.0)\nRequirement already satisfied: typing-extensions>=4.8.0 in /usr/local/lib/python3.10/dist-packages (from torch<3,>=2.0->bitsandbytes) (4.12.2)\nRequirement already satisfied: networkx in /usr/local/lib/python3.10/dist-packages (from torch<3,>=2.0->bitsandbytes) (3.4.2)\nRequirement already satisfied: jinja2 in /usr/local/lib/python3.10/dist-packages (from torch<3,>=2.0->bitsandbytes) (3.1.4)\nRequirement already satisfied: fsspec in /usr/local/lib/python3.10/dist-packages (from torch<3,>=2.0->bitsandbytes) (2024.9.0)\nRequirement already satisfied: sympy==1.13.1 in /usr/local/lib/python3.10/dist-packages (from torch<3,>=2.0->bitsandbytes) (1.13.1)\nRequirement already satisfied: mpmath<1.4,>=1.1.0 in /usr/local/lib/python3.10/dist-packages (from sympy==1.13.1->torch<3,>=2.0->bitsandbytes) (1.3.0)\nRequirement already satisfied: MarkupSafe>=2.0 in /usr/local/lib/python3.10/dist-packages (from jinja2->torch<3,>=2.0->bitsandbytes) (3.0.2)\nRequirement already satisfied: intel-openmp>=2024 in /usr/local/lib/python3.10/dist-packages (from mkl->numpy>=1.17->bitsandbytes) (2024.2.0)\nRequirement already satisfied: tbb==2022.* in /usr/local/lib/python3.10/dist-packages (from mkl->numpy>=1.17->bitsandbytes) (2022.0.0)\nRequirement already satisfied: tcmlib==1.* in /usr/local/lib/python3.10/dist-packages (from tbb==2022.*->mkl->numpy>=1.17->bitsandbytes) (1.2.0)\nRequirement already satisfied: intel-cmplr-lib-rt in /usr/local/lib/python3.10/dist-packages (from mkl_umath->numpy>=1.17->bitsandbytes) (2024.2.0)\nRequirement already satisfied: intel-cmplr-lib-ur==2024.2.0 in /usr/local/lib/python3.10/dist-packages (from intel-openmp>=2024->mkl->numpy>=1.17->bitsandbytes) (2024.2.0)\n",
          "output_type": "stream"
        }
      ],
      "execution_count": null
    },
    {
      "cell_type": "code",
      "source": [
        "#nothing"
      ],
      "metadata": {
        "trusted": true,
        "execution": {
          "iopub.status.busy": "2025-02-18T12:08:25.278218Z",
          "iopub.execute_input": "2025-02-18T12:08:25.278495Z",
          "iopub.status.idle": "2025-02-18T12:08:25.281968Z",
          "shell.execute_reply.started": "2025-02-18T12:08:25.27847Z",
          "shell.execute_reply": "2025-02-18T12:08:25.281192Z"
        },
        "id": "xZPdewalDh74"
      },
      "outputs": [],
      "execution_count": null
    },
    {
      "cell_type": "code",
      "source": [
        "import os\n",
        "import torch\n",
        "from datasets import load_dataset\n",
        "from transformers import (\n",
        "    AutoModelForCausalLM,\n",
        "    AutoTokenizer,\n",
        "    BitsAndBytesConfig,\n",
        "    TrainingArguments,\n",
        "    pipeline,\n",
        "    logging,\n",
        ")\n",
        "import gc\n",
        "from peft import LoraConfig, PeftModel, get_peft_model, prepare_model_for_kbit_training\n",
        "from trl import SFTTrainer"
      ],
      "metadata": {
        "trusted": true,
        "execution": {
          "iopub.status.busy": "2025-02-18T12:27:54.922739Z",
          "iopub.execute_input": "2025-02-18T12:27:54.923047Z",
          "iopub.status.idle": "2025-02-18T12:27:54.927335Z",
          "shell.execute_reply.started": "2025-02-18T12:27:54.923024Z",
          "shell.execute_reply": "2025-02-18T12:27:54.926397Z"
        },
        "id": "IGfBk8i5Dh75"
      },
      "outputs": [],
      "execution_count": null
    },
    {
      "cell_type": "code",
      "source": [
        "torch.cuda.empty_cache()\n",
        "gc.collect()\n",
        "\n",
        "os.environ[\"PYTORCH_CUDA_ALLOC_CONF\"] = \"expandable_segments:True\""
      ],
      "metadata": {
        "trusted": true,
        "execution": {
          "iopub.status.busy": "2025-02-18T12:27:57.658386Z",
          "iopub.execute_input": "2025-02-18T12:27:57.658728Z",
          "iopub.status.idle": "2025-02-18T12:27:58.046066Z",
          "shell.execute_reply.started": "2025-02-18T12:27:57.658701Z",
          "shell.execute_reply": "2025-02-18T12:27:58.045062Z"
        },
        "id": "1oQOseODDh76"
      },
      "outputs": [],
      "execution_count": null
    },
    {
      "cell_type": "code",
      "source": [
        "model_name = \"google/gemma-2-2b-it\"\n",
        "dataset_name = \"Akshit-jain/your_very_own_therapist\"\n",
        "new_model = \"therapist-tl\"\n",
        "\n",
        "# For LoRA\n",
        "lora_r = 64  # rank\n",
        "lora_alpha = 16\n",
        "lora_dropout = 0.1\n",
        "\n",
        "# Training parameters\n",
        "output_dir = \"./results\"\n",
        "num_train_epochs = 1\n",
        "per_device_train_batch_size = 1\n",
        "gradient_accumulation_steps = 16\n",
        "gradient_checkpointing = True\n",
        "max_grad_norm = 0.3\n",
        "learning_rate = 2e-4\n",
        "weight_decay = 0.001\n",
        "optim = \"paged_adamw_32bit\"\n",
        "lr_scheduler_type = \"cosine\"\n",
        "max_steps = -1\n",
        "warmup_ratio = 0.03\n",
        "save_steps = 0\n",
        "logging_steps = 25\n",
        "seq_length = 512"
      ],
      "metadata": {
        "trusted": true,
        "execution": {
          "iopub.status.busy": "2025-02-18T12:31:20.99984Z",
          "iopub.execute_input": "2025-02-18T12:31:21.000169Z",
          "iopub.status.idle": "2025-02-18T12:31:21.00521Z",
          "shell.execute_reply.started": "2025-02-18T12:31:21.000145Z",
          "shell.execute_reply": "2025-02-18T12:31:21.004383Z"
        },
        "id": "NdX3cRsPDh76"
      },
      "outputs": [],
      "execution_count": null
    },
    {
      "cell_type": "code",
      "source": [
        "from huggingface_hub import notebook_login\n",
        "notebook_login()"
      ],
      "metadata": {
        "trusted": true,
        "execution": {
          "iopub.status.busy": "2025-02-18T12:08:47.844064Z",
          "iopub.execute_input": "2025-02-18T12:08:47.844388Z",
          "iopub.status.idle": "2025-02-18T12:08:48.727543Z",
          "shell.execute_reply.started": "2025-02-18T12:08:47.844358Z",
          "shell.execute_reply": "2025-02-18T12:08:48.726763Z"
        },
        "id": "qGx7M6SxDh77",
        "outputId": "8489aae2-7a99-4a40-db32-23b0ff647eea"
      },
      "outputs": [
        {
          "output_type": "display_data",
          "data": {
            "text/plain": "VBox(children=(HTML(value='<center> <img\\nsrc=https://huggingface.co/front/assets/huggingface_logo-noborder.sv…",
            "application/vnd.jupyter.widget-view+json": {
              "version_major": 2,
              "version_minor": 0,
              "model_id": "3e5302c63f594d0bb43825a95156f0b9"
            }
          },
          "metadata": {}
        }
      ],
      "execution_count": null
    },
    {
      "cell_type": "code",
      "source": [
        "!bash -i your_script.sh\n",
        "!%env PYTORCH_CUDA_ALLOC_CONF=expandable_segments:True"
      ],
      "metadata": {
        "trusted": true,
        "execution": {
          "iopub.status.busy": "2025-02-18T12:08:48.728582Z",
          "iopub.execute_input": "2025-02-18T12:08:48.728868Z",
          "iopub.status.idle": "2025-02-18T12:08:49.027616Z",
          "shell.execute_reply.started": "2025-02-18T12:08:48.72882Z",
          "shell.execute_reply": "2025-02-18T12:08:49.026414Z"
        },
        "id": "wR_g0O6cDh77",
        "outputId": "d167072c-3ab4-4047-87f9-ea24f73e33a7"
      },
      "outputs": [
        {
          "name": "stdout",
          "text": "bash: your_script.sh: No such file or directory\n/bin/bash: line 1: fg: no job control\n",
          "output_type": "stream"
        }
      ],
      "execution_count": null
    },
    {
      "cell_type": "code",
      "source": [
        "!export PYTORCH_CUDA_ALLOC_CONF=expandable_segments:True\n",
        "\n",
        "import torch\n",
        "torch.cuda.empty_cache()\n"
      ],
      "metadata": {
        "trusted": true,
        "execution": {
          "iopub.status.busy": "2025-02-18T12:15:11.11913Z",
          "iopub.execute_input": "2025-02-18T12:15:11.11963Z",
          "iopub.status.idle": "2025-02-18T12:15:11.574509Z",
          "shell.execute_reply.started": "2025-02-18T12:15:11.119581Z",
          "shell.execute_reply": "2025-02-18T12:15:11.573339Z"
        },
        "id": "9nipuQXuDh78"
      },
      "outputs": [],
      "execution_count": null
    },
    {
      "cell_type": "code",
      "source": [
        "use_4bit = True\n",
        "bnb_4bit_compute_dtype = \"float16\"\n",
        "compute_dtype = getattr(torch, bnb_4bit_compute_dtype)\n",
        "bnb_4bit_quant_type = \"nf4\"\n",
        "use_nested_quant = False\n",
        "\n",
        "# Setup BitsAndBytes configuration\n",
        "bnb_config = BitsAndBytesConfig(\n",
        "    load_in_4bit=use_4bit,\n",
        "    bnb_4bit_quant_type=bnb_4bit_quant_type,\n",
        "    bnb_4bit_compute_dtype=compute_dtype,\n",
        "    bnb_4bit_use_double_quant=use_nested_quant,\n",
        ")\n",
        "\n",
        "# Load tokenizer\n",
        "tokenizer = AutoTokenizer.from_pretrained(model_name, trust_remote_code=True)\n",
        "tokenizer.pad_token = tokenizer.eos_token\n",
        "tokenizer.padding_side = \"right\"\n",
        "\n",
        "# Load model with quantization\n",
        "model = AutoModelForCausalLM.from_pretrained(\n",
        "    model_name,\n",
        "    quantization_config=bnb_config,\n",
        "    device_map=\"auto\",\n",
        "    low_cpu_mem_usage=True,\n",
        ")\n",
        "\n",
        "# Prepare model for training - CRUCIAL for gradient computation\n",
        "model = prepare_model_for_kbit_training(model, use_gradient_checkpointing=gradient_checkpointing)\n",
        "\n",
        "# Configure model settings\n",
        "model.config.use_cache = False\n",
        "model.config.pretraining_tp = 1\n",
        "\n",
        "# Configure LoRA with correctly set modules for Gemma\n",
        "peft_config = LoraConfig(\n",
        "    lora_alpha=lora_alpha,\n",
        "    lora_dropout=lora_dropout,\n",
        "    r=lora_r,\n",
        "    bias=\"none\",\n",
        "    task_type=\"CAUSAL_LM\",\n",
        "    target_modules=[\n",
        "        \"q_proj\",\n",
        "        \"k_proj\",\n",
        "        \"v_proj\",\n",
        "        \"o_proj\",\n",
        "        \"gate_proj\",\n",
        "        \"up_proj\",\n",
        "        \"down_proj\"\n",
        "    ],\n",
        ")\n",
        "\n",
        "# Load dataset\n",
        "dataset = load_dataset(dataset_name, split=\"train\")\n",
        "\n",
        "# Format dataset with proper tokenization\n",
        "def preprocess_function(examples):\n",
        "    return tokenizer(examples[\"text\"], truncation=True, max_length=seq_length)\n",
        "\n",
        "tokenized_dataset = dataset.map(preprocess_function, batched=True)\n",
        "\n",
        "# Training arguments\n",
        "training_arguments = TrainingArguments(\n",
        "    output_dir=output_dir,\n",
        "    num_train_epochs=num_train_epochs,\n",
        "    per_device_train_batch_size=per_device_train_batch_size,\n",
        "    gradient_accumulation_steps=gradient_accumulation_steps,\n",
        "    optim=optim,\n",
        "    save_steps=save_steps,\n",
        "    logging_steps=logging_steps,\n",
        "    learning_rate=learning_rate,\n",
        "    weight_decay=weight_decay,\n",
        "    fp16=False,\n",
        "    bf16=torch.cuda.is_available() and torch.cuda.get_device_capability()[0] >= 8,\n",
        "    max_grad_norm=max_grad_norm,\n",
        "    max_steps=max_steps,\n",
        "    warmup_ratio=warmup_ratio,\n",
        "    group_by_length=True,\n",
        "    lr_scheduler_type=lr_scheduler_type,\n",
        "    report_to=\"tensorboard\",\n",
        "    ddp_find_unused_parameters=False,\n",
        "    dataloader_drop_last=True,\n",
        ")\n",
        "\n",
        "# Initialize trainer with the correct parameters for your version\n",
        "trainer = SFTTrainer(\n",
        "    model=model,\n",
        "    train_dataset=tokenized_dataset,\n",
        "    peft_config=peft_config,\n",
        "    args=training_arguments,\n",
        "    tokenizer=tokenizer,  # This will be transformed to processing_class internally\n",
        ")\n",
        "\n",
        "# Function to monitor memory during training\n",
        "def print_gpu_memory():\n",
        "    if torch.cuda.is_available():\n",
        "        t = torch.cuda.get_device_properties(0).total_memory\n",
        "        r = torch.cuda.memory_reserved(0)\n",
        "        a = torch.cuda.memory_allocated(0)\n",
        "        f = r - a  # free inside reserved\n",
        "        print(f\"Total: {t/1e9:.2f}GB | Reserved: {r/1e9:.2f}GB | Allocated: {a/1e9:.2f}GB | Free: {f/1e9:.2f}GB\")\n",
        "\n",
        "# Print initial memory state\n",
        "print_gpu_memory()\n",
        "\n",
        "# Train\n",
        "trainer.train()\n",
        "\n",
        "# Print final memory state\n",
        "print_gpu_memory()\n",
        "\n",
        "# Save the trained model\n",
        "trainer.save_model(new_model)"
      ],
      "metadata": {
        "execution": {
          "iopub.status.busy": "2025-02-18T12:31:41.588728Z",
          "iopub.execute_input": "2025-02-18T12:31:41.589093Z",
          "iopub.status.idle": "2025-02-18T16:40:41.266226Z",
          "shell.execute_reply.started": "2025-02-18T12:31:41.58906Z",
          "shell.execute_reply": "2025-02-18T16:40:41.265495Z"
        },
        "trusted": true,
        "id": "vuPturQ5Dh78",
        "outputId": "5628961b-b955-415a-ca46-4b178ac30b53"
      },
      "outputs": [
        {
          "output_type": "display_data",
          "data": {
            "text/plain": "Loading checkpoint shards:   0%|          | 0/2 [00:00<?, ?it/s]",
            "application/vnd.jupyter.widget-view+json": {
              "version_major": 2,
              "version_minor": 0,
              "model_id": "cc874cc3e02146adaac844a128e66198"
            }
          },
          "metadata": {}
        },
        {
          "output_type": "display_data",
          "data": {
            "text/plain": "Map:   0%|          | 0/8580 [00:00<?, ? examples/s]",
            "application/vnd.jupyter.widget-view+json": {
              "version_major": 2,
              "version_minor": 0,
              "model_id": "d4392dfbab6741ec8d4ba83a916c3789"
            }
          },
          "metadata": {}
        },
        {
          "name": "stderr",
          "text": "<ipython-input-41-b5ebdb0777ea>:86: FutureWarning: `tokenizer` is deprecated and removed starting from version 0.16.0 for `SFTTrainer.__init__`. Use `processing_class` instead.\n  trainer = SFTTrainer(\n",
          "output_type": "stream"
        },
        {
          "output_type": "display_data",
          "data": {
            "text/plain": "Applying chat template to train dataset:   0%|          | 0/8580 [00:00<?, ? examples/s]",
            "application/vnd.jupyter.widget-view+json": {
              "version_major": 2,
              "version_minor": 0,
              "model_id": "8a87f48f356243709e1d18703568be79"
            }
          },
          "metadata": {}
        },
        {
          "output_type": "display_data",
          "data": {
            "text/plain": "Tokenizing train dataset:   0%|          | 0/8580 [00:00<?, ? examples/s]",
            "application/vnd.jupyter.widget-view+json": {
              "version_major": 2,
              "version_minor": 0,
              "model_id": "e4bc0f7096694f998120566c5f2dc7bb"
            }
          },
          "metadata": {}
        },
        {
          "output_type": "display_data",
          "data": {
            "text/plain": "Tokenizing train dataset:   0%|          | 0/8580 [00:00<?, ? examples/s]",
            "application/vnd.jupyter.widget-view+json": {
              "version_major": 2,
              "version_minor": 0,
              "model_id": "c4133e33276a48fe9413bfe160c59580"
            }
          },
          "metadata": {}
        },
        {
          "name": "stdout",
          "text": "Total: 17.06GB | Reserved: 12.12GB | Allocated: 8.59GB | Free: 3.53GB\n",
          "output_type": "stream"
        },
        {
          "name": "stderr",
          "text": "/usr/local/lib/python3.10/dist-packages/torch/_dynamo/eval_frame.py:632: UserWarning: torch.utils.checkpoint: the use_reentrant parameter should be passed explicitly. In version 2.5 we will raise an exception if use_reentrant is not passed. use_reentrant=False is recommended, but if you need to preserve the current default behavior, you can pass use_reentrant=True. Refer to docs for more details on the differences between the two variants.\n  return fn(*args, **kwargs)\n",
          "output_type": "stream"
        },
        {
          "output_type": "display_data",
          "data": {
            "text/plain": "<IPython.core.display.HTML object>",
            "text/html": "\n    <div>\n      \n      <progress value='536' max='536' style='width:300px; height:20px; vertical-align: middle;'></progress>\n      [536/536 4:07:21, Epoch 0/1]\n    </div>\n    <table border=\"1\" class=\"dataframe\">\n  <thead>\n <tr style=\"text-align: left;\">\n      <th>Step</th>\n      <th>Training Loss</th>\n    </tr>\n  </thead>\n  <tbody>\n    <tr>\n      <td>25</td>\n      <td>21.293300</td>\n    </tr>\n    <tr>\n      <td>50</td>\n      <td>21.039700</td>\n    </tr>\n    <tr>\n      <td>75</td>\n      <td>16.734200</td>\n    </tr>\n    <tr>\n      <td>100</td>\n      <td>20.136100</td>\n    </tr>\n    <tr>\n      <td>125</td>\n      <td>16.394300</td>\n    </tr>\n    <tr>\n      <td>150</td>\n      <td>18.750400</td>\n    </tr>\n    <tr>\n      <td>175</td>\n      <td>15.554200</td>\n    </tr>\n    <tr>\n      <td>200</td>\n      <td>19.229800</td>\n    </tr>\n    <tr>\n      <td>225</td>\n      <td>15.093500</td>\n    </tr>\n    <tr>\n      <td>250</td>\n      <td>18.955200</td>\n    </tr>\n    <tr>\n      <td>275</td>\n      <td>15.043800</td>\n    </tr>\n    <tr>\n      <td>300</td>\n      <td>19.441900</td>\n    </tr>\n    <tr>\n      <td>325</td>\n      <td>14.830700</td>\n    </tr>\n    <tr>\n      <td>350</td>\n      <td>17.587700</td>\n    </tr>\n    <tr>\n      <td>375</td>\n      <td>14.868700</td>\n    </tr>\n    <tr>\n      <td>400</td>\n      <td>18.279200</td>\n    </tr>\n    <tr>\n      <td>425</td>\n      <td>14.398000</td>\n    </tr>\n    <tr>\n      <td>450</td>\n      <td>17.707000</td>\n    </tr>\n    <tr>\n      <td>475</td>\n      <td>14.913600</td>\n    </tr>\n    <tr>\n      <td>500</td>\n      <td>18.522500</td>\n    </tr>\n    <tr>\n      <td>525</td>\n      <td>14.046500</td>\n    </tr>\n  </tbody>\n</table><p>"
          },
          "metadata": {}
        },
        {
          "name": "stdout",
          "text": "Total: 17.06GB | Reserved: 12.99GB | Allocated: 7.45GB | Free: 5.54GB\n",
          "output_type": "stream"
        }
      ],
      "execution_count": null
    },
    {
      "cell_type": "code",
      "source": [
        "%load_ext tensorboard\n",
        "%tensorboard --logdir results/runs"
      ],
      "metadata": {
        "trusted": true,
        "execution": {
          "iopub.status.busy": "2025-02-18T16:43:23.07153Z",
          "iopub.execute_input": "2025-02-18T16:43:23.071872Z",
          "iopub.status.idle": "2025-02-18T16:43:29.134529Z",
          "shell.execute_reply.started": "2025-02-18T16:43:23.071839Z",
          "shell.execute_reply": "2025-02-18T16:43:29.133712Z"
        },
        "id": "i_EjDfZuDh7-",
        "outputId": "3f239288-cc7a-4cc3-d698-0a7a46b89b5b"
      },
      "outputs": [
        {
          "output_type": "display_data",
          "data": {
            "text/plain": "<IPython.core.display.Javascript object>",
            "application/javascript": "\n        (async () => {\n            const url = new URL(await google.colab.kernel.proxyPort(6006, {'cache': true}));\n            url.searchParams.set('tensorboardColab', 'true');\n            const iframe = document.createElement('iframe');\n            iframe.src = url;\n            iframe.setAttribute('width', '100%');\n            iframe.setAttribute('height', '800');\n            iframe.setAttribute('frameborder', 0);\n            document.body.appendChild(iframe);\n        })();\n    "
          },
          "metadata": {}
        }
      ],
      "execution_count": null
    },
    {
      "cell_type": "code",
      "source": [
        "logging.set_verbosity(logging.CRITICAL)"
      ],
      "metadata": {
        "trusted": true,
        "execution": {
          "iopub.status.busy": "2025-02-18T16:43:45.545006Z",
          "iopub.execute_input": "2025-02-18T16:43:45.545329Z",
          "iopub.status.idle": "2025-02-18T16:43:45.549909Z",
          "shell.execute_reply.started": "2025-02-18T16:43:45.545267Z",
          "shell.execute_reply": "2025-02-18T16:43:45.549189Z"
        },
        "id": "1PRi5CtvDh7-"
      },
      "outputs": [],
      "execution_count": null
    },
    {
      "cell_type": "code",
      "source": [
        "import locale\n",
        "locale.getpreferredencoding = lambda: \"UTF-8\""
      ],
      "metadata": {
        "trusted": true,
        "execution": {
          "iopub.status.busy": "2025-02-18T16:54:13.82495Z",
          "iopub.execute_input": "2025-02-18T16:54:13.825271Z",
          "iopub.status.idle": "2025-02-18T16:54:13.828841Z",
          "shell.execute_reply.started": "2025-02-18T16:54:13.825239Z",
          "shell.execute_reply": "2025-02-18T16:54:13.828128Z"
        },
        "id": "maQrCwsLDh7_"
      },
      "outputs": [],
      "execution_count": null
    },
    {
      "cell_type": "code",
      "source": [
        "model.push_to_hub(\"Akshit-jain/therapist-ft\", check_pr=True)\n",
        "\n",
        "tokenizer.push_to_hub(\"Akshit-jain/therapist-ft\",check_pr=True)"
      ],
      "metadata": {
        "trusted": true,
        "execution": {
          "iopub.status.busy": "2025-02-18T16:58:47.675909Z",
          "iopub.execute_input": "2025-02-18T16:58:47.676237Z",
          "iopub.status.idle": "2025-02-18T17:00:43.695559Z",
          "shell.execute_reply.started": "2025-02-18T16:58:47.676206Z",
          "shell.execute_reply": "2025-02-18T17:00:43.694765Z"
        },
        "id": "bWhi5We4Dh7_",
        "outputId": "3ee1ffe5-7cde-4568-9946-a4bd2ad4e493"
      },
      "outputs": [
        {
          "output_type": "display_data",
          "data": {
            "text/plain": "model.safetensors:   0%|          | 0.00/3.83G [00:00<?, ?B/s]",
            "application/vnd.jupyter.widget-view+json": {
              "version_major": 2,
              "version_minor": 0,
              "model_id": "4c3e6258334e40e9a8a596cd6144a9af"
            }
          },
          "metadata": {}
        },
        {
          "output_type": "display_data",
          "data": {
            "text/plain": "README.md:   0%|          | 0.00/5.18k [00:00<?, ?B/s]",
            "application/vnd.jupyter.widget-view+json": {
              "version_major": 2,
              "version_minor": 0,
              "model_id": "70f0b5be6e9546fe9c5d98b38ceb1af9"
            }
          },
          "metadata": {}
        },
        {
          "output_type": "display_data",
          "data": {
            "text/plain": "Upload 2 LFS files:   0%|          | 0/2 [00:00<?, ?it/s]",
            "application/vnd.jupyter.widget-view+json": {
              "version_major": 2,
              "version_minor": 0,
              "model_id": "b489efbb36744a2ea4185a9716ff77e9"
            }
          },
          "metadata": {}
        },
        {
          "output_type": "display_data",
          "data": {
            "text/plain": "tokenizer.json:   0%|          | 0.00/34.4M [00:00<?, ?B/s]",
            "application/vnd.jupyter.widget-view+json": {
              "version_major": 2,
              "version_minor": 0,
              "model_id": "36fc04e9ec8548338b648bac18507bad"
            }
          },
          "metadata": {}
        },
        {
          "output_type": "display_data",
          "data": {
            "text/plain": "tokenizer.model:   0%|          | 0.00/4.24M [00:00<?, ?B/s]",
            "application/vnd.jupyter.widget-view+json": {
              "version_major": 2,
              "version_minor": 0,
              "model_id": "f301523f11984b45940836931b225eb4"
            }
          },
          "metadata": {}
        },
        {
          "execution_count": 56,
          "output_type": "execute_result",
          "data": {
            "text/plain": "CommitInfo(commit_url='https://huggingface.co/Akshit-jain/therapist-ft/commit/537acd9f0c35b3e9bb794ec52269bfdfbc6aa344', commit_message='Upload tokenizer', commit_description='', oid='537acd9f0c35b3e9bb794ec52269bfdfbc6aa344', pr_url=None, repo_url=RepoUrl('https://huggingface.co/Akshit-jain/therapist-ft', endpoint='https://huggingface.co', repo_type='model', repo_id='Akshit-jain/therapist-ft'), pr_revision=None, pr_num=None)"
          },
          "metadata": {}
        }
      ],
      "execution_count": null
    },
    {
      "cell_type": "code",
      "source": [
        "!git init"
      ],
      "metadata": {
        "trusted": true,
        "execution": {
          "iopub.status.busy": "2025-02-18T17:04:06.630029Z",
          "iopub.execute_input": "2025-02-18T17:04:06.630382Z",
          "iopub.status.idle": "2025-02-18T17:04:06.895074Z",
          "shell.execute_reply.started": "2025-02-18T17:04:06.630351Z",
          "shell.execute_reply": "2025-02-18T17:04:06.894175Z"
        },
        "id": "v6zSyzyZDh7_",
        "outputId": "ba47207d-ae50-4855-fc52-b7084f6fc2fe"
      },
      "outputs": [
        {
          "name": "stdout",
          "text": "\u001b[33mhint: Using 'master' as the name for the initial branch. This default branch name\u001b[m\n\u001b[33mhint: is subject to change. To configure the initial branch name to use in all\u001b[m\n\u001b[33mhint: of your new repositories, which will suppress this warning, call:\u001b[m\n\u001b[33mhint: \u001b[m\n\u001b[33mhint: \tgit config --global init.defaultBranch <name>\u001b[m\n\u001b[33mhint: \u001b[m\n\u001b[33mhint: Names commonly chosen instead of 'master' are 'main', 'trunk' and\u001b[m\n\u001b[33mhint: 'development'. The just-created branch can be renamed via this command:\u001b[m\n\u001b[33mhint: \u001b[m\n\u001b[33mhint: \tgit branch -m <name>\u001b[m\nInitialized empty Git repository in /kaggle/working/.git/\n",
          "output_type": "stream"
        }
      ],
      "execution_count": null
    },
    {
      "cell_type": "code",
      "source": [
        "!git remote add origin https://github.com/Aj242005/The-Therapist.git"
      ],
      "metadata": {
        "trusted": true,
        "execution": {
          "iopub.status.busy": "2025-02-18T17:10:02.308783Z",
          "iopub.execute_input": "2025-02-18T17:10:02.309115Z",
          "iopub.status.idle": "2025-02-18T17:10:02.526992Z",
          "shell.execute_reply.started": "2025-02-18T17:10:02.309087Z",
          "shell.execute_reply": "2025-02-18T17:10:02.525938Z"
        },
        "id": "PcbI6QXCDh8A",
        "outputId": "af345305-54b2-4cc5-bb9d-bb45d5ccbe10"
      },
      "outputs": [
        {
          "name": "stdout",
          "text": "error: remote origin already exists.\n",
          "output_type": "stream"
        }
      ],
      "execution_count": null
    },
    {
      "cell_type": "code",
      "source": [
        "!git branch -m main"
      ],
      "metadata": {
        "trusted": true,
        "execution": {
          "iopub.status.busy": "2025-02-18T17:10:05.859215Z",
          "iopub.execute_input": "2025-02-18T17:10:05.85962Z",
          "iopub.status.idle": "2025-02-18T17:10:06.0767Z",
          "shell.execute_reply.started": "2025-02-18T17:10:05.859585Z",
          "shell.execute_reply": "2025-02-18T17:10:06.075543Z"
        },
        "id": "YJX2WI5lDh8D"
      },
      "outputs": [],
      "execution_count": null
    },
    {
      "cell_type": "code",
      "source": [
        "!git branch"
      ],
      "metadata": {
        "trusted": true,
        "execution": {
          "iopub.status.busy": "2025-02-18T17:10:08.513751Z",
          "iopub.execute_input": "2025-02-18T17:10:08.514097Z",
          "iopub.status.idle": "2025-02-18T17:10:08.730122Z",
          "shell.execute_reply.started": "2025-02-18T17:10:08.514069Z",
          "shell.execute_reply": "2025-02-18T17:10:08.728972Z"
        },
        "id": "Rz4tszz5Dh8D"
      },
      "outputs": [],
      "execution_count": null
    },
    {
      "cell_type": "code",
      "source": [
        "!git push -u origin main"
      ],
      "metadata": {
        "trusted": true,
        "execution": {
          "iopub.status.busy": "2025-02-18T17:10:11.197369Z",
          "iopub.execute_input": "2025-02-18T17:10:11.19773Z",
          "iopub.status.idle": "2025-02-18T17:10:11.423693Z",
          "shell.execute_reply.started": "2025-02-18T17:10:11.197698Z",
          "shell.execute_reply": "2025-02-18T17:10:11.422691Z"
        },
        "id": "DnrROzOODh8D",
        "outputId": "c6be5d3c-de8e-4329-e273-de3cbf60e27b"
      },
      "outputs": [
        {
          "name": "stdout",
          "text": "error: src refspec main does not match any\n\u001b[31merror: failed to push some refs to 'https://github.com/Aj242005/The-Therapist.git'\n\u001b[m",
          "output_type": "stream"
        }
      ],
      "execution_count": null
    },
    {
      "cell_type": "code",
      "source": [
        "!apt-get install git"
      ],
      "metadata": {
        "trusted": true,
        "execution": {
          "iopub.status.busy": "2025-02-18T17:08:50.696941Z",
          "iopub.execute_input": "2025-02-18T17:08:50.69733Z",
          "iopub.status.idle": "2025-02-18T17:09:01.092484Z",
          "shell.execute_reply.started": "2025-02-18T17:08:50.697293Z",
          "shell.execute_reply": "2025-02-18T17:09:01.091432Z"
        },
        "id": "Fjaro6GjDh8E",
        "outputId": "48cb810d-7a4d-44ae-88b6-3c59d4c0bbbd"
      },
      "outputs": [
        {
          "name": "stdout",
          "text": "Reading package lists... Done\nBuilding dependency tree... Done\nReading state information... Done\nSuggested packages:\n  gettext-base git-daemon-run | git-daemon-sysvinit git-doc git-email git-gui gitk gitweb git-cvs\n  git-mediawiki git-svn\nThe following packages will be upgraded:\n  git\n1 upgraded, 0 newly installed, 0 to remove and 116 not upgraded.\nNeed to get 3,165 kB of archives.\nAfter this operation, 4,096 B of additional disk space will be used.\nGet:1 http://archive.ubuntu.com/ubuntu jammy-updates/main amd64 git amd64 1:2.34.1-1ubuntu1.12 [3,165 kB]\nFetched 3,165 kB in 1s (4,751 kB/s)\n(Reading database ... 127400 files and directories currently installed.)\nPreparing to unpack .../git_1%3a2.34.1-1ubuntu1.12_amd64.deb ...\nUnpacking git (1:2.34.1-1ubuntu1.12) over (1:2.34.1-1ubuntu1.11) ...\nSetting up git (1:2.34.1-1ubuntu1.12) ...\n",
          "output_type": "stream"
        }
      ],
      "execution_count": null
    },
    {
      "cell_type": "code",
      "source": [
        "!git config --global user.name \"Aj242005\"\n",
        "!git config --global user.email \"akshitjain6661@gmail.com\""
      ],
      "metadata": {
        "trusted": true,
        "execution": {
          "iopub.status.busy": "2025-02-18T17:09:46.74675Z",
          "iopub.execute_input": "2025-02-18T17:09:46.74709Z",
          "iopub.status.idle": "2025-02-18T17:09:47.167399Z",
          "shell.execute_reply.started": "2025-02-18T17:09:46.747061Z",
          "shell.execute_reply": "2025-02-18T17:09:47.166128Z"
        },
        "id": "Ux5aRa2pDh8E"
      },
      "outputs": [],
      "execution_count": null
    },
    {
      "cell_type": "code",
      "source": [
        "!git add ."
      ],
      "metadata": {
        "trusted": true,
        "execution": {
          "iopub.status.busy": "2025-02-18T17:10:24.994851Z",
          "iopub.execute_input": "2025-02-18T17:10:24.995193Z",
          "iopub.status.idle": "2025-02-18T17:11:23.257326Z",
          "shell.execute_reply.started": "2025-02-18T17:10:24.995161Z",
          "shell.execute_reply": "2025-02-18T17:11:23.256317Z"
        },
        "id": "PyvZn6bLDh8E"
      },
      "outputs": [],
      "execution_count": null
    },
    {
      "cell_type": "code",
      "source": [
        "!git status"
      ],
      "metadata": {
        "trusted": true,
        "execution": {
          "iopub.status.busy": "2025-02-18T17:11:32.228395Z",
          "iopub.execute_input": "2025-02-18T17:11:32.22875Z",
          "iopub.status.idle": "2025-02-18T17:11:32.445494Z",
          "shell.execute_reply.started": "2025-02-18T17:11:32.228719Z",
          "shell.execute_reply": "2025-02-18T17:11:32.444397Z"
        },
        "id": "OItnYPV_Dh8F",
        "outputId": "62d1830c-445b-4656-a9d5-ba25a0d91962"
      },
      "outputs": [
        {
          "name": "stdout",
          "text": "On branch main\n\nNo commits yet\n\nChanges to be committed:\n  (use \"git rm --cached <file>...\" to unstage)\n\t\u001b[32mnew file:   results/checkpoint-536/README.md\u001b[m\n\t\u001b[32mnew file:   results/checkpoint-536/adapter_config.json\u001b[m\n\t\u001b[32mnew file:   results/checkpoint-536/adapter_model.safetensors\u001b[m\n\t\u001b[32mnew file:   results/checkpoint-536/optimizer.pt\u001b[m\n\t\u001b[32mnew file:   results/checkpoint-536/rng_state.pth\u001b[m\n\t\u001b[32mnew file:   results/checkpoint-536/scheduler.pt\u001b[m\n\t\u001b[32mnew file:   results/checkpoint-536/special_tokens_map.json\u001b[m\n\t\u001b[32mnew file:   results/checkpoint-536/tokenizer.json\u001b[m\n\t\u001b[32mnew file:   results/checkpoint-536/tokenizer.model\u001b[m\n\t\u001b[32mnew file:   results/checkpoint-536/tokenizer_config.json\u001b[m\n\t\u001b[32mnew file:   results/checkpoint-536/trainer_state.json\u001b[m\n\t\u001b[32mnew file:   results/checkpoint-536/training_args.bin\u001b[m\n\t\u001b[32mnew file:   results/runs/Feb18_12-11-26_e7190e68a7fb/events.out.tfevents.1739880729.e7190e68a7fb.31.0\u001b[m\n\t\u001b[32mnew file:   results/runs/Feb18_12-23-01_e7190e68a7fb/events.out.tfevents.1739881411.e7190e68a7fb.31.1\u001b[m\n\t\u001b[32mnew file:   results/runs/Feb18_12-31-59_e7190e68a7fb/events.out.tfevents.1739881951.e7190e68a7fb.31.2\u001b[m\n\t\u001b[32mnew file:   therapist-tl/README.md\u001b[m\n\t\u001b[32mnew file:   therapist-tl/adapter_config.json\u001b[m\n\t\u001b[32mnew file:   therapist-tl/adapter_model.safetensors\u001b[m\n\t\u001b[32mnew file:   therapist-tl/special_tokens_map.json\u001b[m\n\t\u001b[32mnew file:   therapist-tl/tokenizer.json\u001b[m\n\t\u001b[32mnew file:   therapist-tl/tokenizer.model\u001b[m\n\t\u001b[32mnew file:   therapist-tl/tokenizer_config.json\u001b[m\n\t\u001b[32mnew file:   therapist-tl/training_args.bin\u001b[m\n\n",
          "output_type": "stream"
        }
      ],
      "execution_count": null
    },
    {
      "cell_type": "code",
      "source": [
        "!git commit -m \"This is the main fine tuning model aspect\""
      ],
      "metadata": {
        "trusted": true,
        "execution": {
          "iopub.status.busy": "2025-02-18T17:11:54.803087Z",
          "iopub.execute_input": "2025-02-18T17:11:54.803487Z",
          "iopub.status.idle": "2025-02-18T17:11:55.960695Z",
          "shell.execute_reply.started": "2025-02-18T17:11:54.80345Z",
          "shell.execute_reply": "2025-02-18T17:11:55.959709Z"
        },
        "id": "QhggZbW1Dh8F",
        "outputId": "96861f90-58aa-4cf0-d91a-872c1ba00ebd"
      },
      "outputs": [
        {
          "name": "stdout",
          "text": "[main (root-commit) 242b3c5] This is the main fine tuning model aspect\n 23 files changed, 5166293 insertions(+)\n create mode 100644 results/checkpoint-536/README.md\n create mode 100644 results/checkpoint-536/adapter_config.json\n create mode 100644 results/checkpoint-536/adapter_model.safetensors\n create mode 100644 results/checkpoint-536/optimizer.pt\n create mode 100644 results/checkpoint-536/rng_state.pth\n create mode 100644 results/checkpoint-536/scheduler.pt\n create mode 100644 results/checkpoint-536/special_tokens_map.json\n create mode 100644 results/checkpoint-536/tokenizer.json\n create mode 100644 results/checkpoint-536/tokenizer.model\n create mode 100644 results/checkpoint-536/tokenizer_config.json\n create mode 100644 results/checkpoint-536/trainer_state.json\n create mode 100644 results/checkpoint-536/training_args.bin\n create mode 100644 results/runs/Feb18_12-11-26_e7190e68a7fb/events.out.tfevents.1739880729.e7190e68a7fb.31.0\n create mode 100644 results/runs/Feb18_12-23-01_e7190e68a7fb/events.out.tfevents.1739881411.e7190e68a7fb.31.1\n create mode 100644 results/runs/Feb18_12-31-59_e7190e68a7fb/events.out.tfevents.1739881951.e7190e68a7fb.31.2\n create mode 100644 therapist-tl/README.md\n create mode 100644 therapist-tl/adapter_config.json\n create mode 100644 therapist-tl/adapter_model.safetensors\n create mode 100644 therapist-tl/special_tokens_map.json\n create mode 100644 therapist-tl/tokenizer.json\n create mode 100644 therapist-tl/tokenizer.model\n create mode 100644 therapist-tl/tokenizer_config.json\n create mode 100644 therapist-tl/training_args.bin\n",
          "output_type": "stream"
        }
      ],
      "execution_count": null
    },
    {
      "cell_type": "code",
      "source": [
        "!git push -u origin main"
      ],
      "metadata": {
        "trusted": true,
        "id": "HrU2g-nPDh8F"
      },
      "outputs": [],
      "execution_count": null
    }
  ]
}